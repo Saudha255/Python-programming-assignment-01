{
 "cells": [
  {
   "cell_type": "code",
   "execution_count": 2,
   "id": "3e73dc40-b951-4d94-ab66-f88f04b35627",
   "metadata": {},
   "outputs": [
    {
     "name": "stdout",
     "output_type": "stream",
     "text": [
      "the total sum is 30\n"
     ]
    }
   ],
   "source": [
    "num1=10\n",
    "num2=20\n",
    "result=(num1+num2)\n",
    "print(\"the total sum is\",result)"
   ]
  },
  {
   "cell_type": "code",
   "execution_count": 4,
   "id": "d496f3ef-7f61-4a25-96ed-eae583cf9283",
   "metadata": {},
   "outputs": [
    {
     "name": "stdout",
     "output_type": "stream",
     "text": [
      "hello world!\n"
     ]
    }
   ],
   "source": [
    "message=\"hello\"\n",
    "message+=(\" world!\")\n",
    "print(message)"
   ]
  },
  {
   "cell_type": "code",
   "execution_count": 6,
   "id": "af7f1f5b-943c-4c24-94c6-cbfd3ece9f0d",
   "metadata": {},
   "outputs": [
    {
     "name": "stdout",
     "output_type": "stream",
     "text": [
      "orginal value: 60.75\n",
      "converted value: 60\n"
     ]
    }
   ],
   "source": [
    "price=60.75\n",
    "print(\"orginal value:\",price)\n",
    "price=int(60.75)\n",
    "print(\"converted value:\",price)"
   ]
  },
  {
   "cell_type": "code",
   "execution_count": 7,
   "id": "e37ec4f6-0dda-4929-b1fb-031269741b2d",
   "metadata": {},
   "outputs": [
    {
     "name": "stdout",
     "output_type": "stream",
     "text": [
      "yes,it is fun\n"
     ]
    }
   ],
   "source": [
    "is_python_fun=True \n",
    "if is_python_fun: \n",
    "    print(\"yes,it is fun\")\n",
    "else:\n",
    "    print(\"No,its not fun\")"
   ]
  },
  {
   "cell_type": "code",
   "execution_count": null,
   "id": "1191779b-97d6-4ba7-a4e3-7f05b20e0893",
   "metadata": {},
   "outputs": [],
   "source": []
  }
 ],
 "metadata": {
  "kernelspec": {
   "display_name": "Python 3 (ipykernel)",
   "language": "python",
   "name": "python3"
  },
  "language_info": {
   "codemirror_mode": {
    "name": "ipython",
    "version": 3
   },
   "file_extension": ".py",
   "mimetype": "text/x-python",
   "name": "python",
   "nbconvert_exporter": "python",
   "pygments_lexer": "ipython3",
   "version": "3.11.4"
  }
 },
 "nbformat": 4,
 "nbformat_minor": 5
}
